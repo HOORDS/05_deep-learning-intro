{
  "nbformat": 4,
  "nbformat_minor": 0,
  "metadata": {
    "colab": {
      "name": "Linear_Classification.ipynb",
      "provenance": [],
      "collapsed_sections": []
    },
    "kernelspec": {
      "name": "python3",
      "display_name": "Python 3"
    },
    "language_info": {
      "name": "python"
    }
  },
  "cells": [
    {
      "cell_type": "code",
      "execution_count": 2,
      "metadata": {
        "id": "QbV0a61010Vw"
      },
      "outputs": [],
      "source": [
        "# Import tensorflow\n",
        "import tensorflow as tf\n",
        "# Load breast cancer data from sklearn\n",
        "from sklearn.datasets import load_breast_cancer\n"
      ]
    },
    {
      "cell_type": "code",
      "source": [
        "# Load the data\n",
        "data = load_breast_cancer()\n",
        "type(data) # A Bunch data type works like a dictionary and the attributes are the keys"
      ],
      "metadata": {
        "colab": {
          "base_uri": "https://localhost:8080/"
        },
        "id": "-u8lncFmdCoD",
        "outputId": "0f5bf678-a499-44ca-b84f-1c65cb2baaff"
      },
      "execution_count": 3,
      "outputs": [
        {
          "output_type": "execute_result",
          "data": {
            "text/plain": [
              "sklearn.utils.Bunch"
            ]
          },
          "metadata": {},
          "execution_count": 3
        }
      ]
    },
    {
      "cell_type": "code",
      "source": [
        "data.keys() # 'data' and 'target' refer to the input data X and the targets Y"
      ],
      "metadata": {
        "colab": {
          "base_uri": "https://localhost:8080/"
        },
        "id": "TsCry0wQdDwR",
        "outputId": "0db0076f-d2f4-4177-d481-40ee2e9f63cd"
      },
      "execution_count": 4,
      "outputs": [
        {
          "output_type": "execute_result",
          "data": {
            "text/plain": [
              "dict_keys(['data', 'target', 'frame', 'target_names', 'DESCR', 'feature_names', 'filename', 'data_module'])"
            ]
          },
          "metadata": {},
          "execution_count": 4
        }
      ]
    },
    {
      "cell_type": "code",
      "source": [
        "data.data.shape # We see that we have 569 observations and 30 features"
      ],
      "metadata": {
        "colab": {
          "base_uri": "https://localhost:8080/"
        },
        "id": "UwwE5S8GdD_x",
        "outputId": "0fee5382-838c-4186-b06e-9c8e6b0b856d"
      },
      "execution_count": 5,
      "outputs": [
        {
          "output_type": "execute_result",
          "data": {
            "text/plain": [
              "(569, 30)"
            ]
          },
          "metadata": {},
          "execution_count": 5
        }
      ]
    },
    {
      "cell_type": "code",
      "source": [
        "print(data.target.shape)\n",
        "data.target # A bunch of 0 and 1"
      ],
      "metadata": {
        "colab": {
          "base_uri": "https://localhost:8080/"
        },
        "id": "TWTtrn0jtRv7",
        "outputId": "eff02b1d-55ce-4521-921f-286e430ef53f"
      },
      "execution_count": 6,
      "outputs": [
        {
          "output_type": "stream",
          "name": "stdout",
          "text": [
            "(569,)\n"
          ]
        },
        {
          "output_type": "execute_result",
          "data": {
            "text/plain": [
              "array([0, 0, 0, 0, 0, 0, 0, 0, 0, 0, 0, 0, 0, 0, 0, 0, 0, 0, 0, 1, 1, 1,\n",
              "       0, 0, 0, 0, 0, 0, 0, 0, 0, 0, 0, 0, 0, 0, 0, 1, 0, 0, 0, 0, 0, 0,\n",
              "       0, 0, 1, 0, 1, 1, 1, 1, 1, 0, 0, 1, 0, 0, 1, 1, 1, 1, 0, 1, 0, 0,\n",
              "       1, 1, 1, 1, 0, 1, 0, 0, 1, 0, 1, 0, 0, 1, 1, 1, 0, 0, 1, 0, 0, 0,\n",
              "       1, 1, 1, 0, 1, 1, 0, 0, 1, 1, 1, 0, 0, 1, 1, 1, 1, 0, 1, 1, 0, 1,\n",
              "       1, 1, 1, 1, 1, 1, 1, 0, 0, 0, 1, 0, 0, 1, 1, 1, 0, 0, 1, 0, 1, 0,\n",
              "       0, 1, 0, 0, 1, 1, 0, 1, 1, 0, 1, 1, 1, 1, 0, 1, 1, 1, 1, 1, 1, 1,\n",
              "       1, 1, 0, 1, 1, 1, 1, 0, 0, 1, 0, 1, 1, 0, 0, 1, 1, 0, 0, 1, 1, 1,\n",
              "       1, 0, 1, 1, 0, 0, 0, 1, 0, 1, 0, 1, 1, 1, 0, 1, 1, 0, 0, 1, 0, 0,\n",
              "       0, 0, 1, 0, 0, 0, 1, 0, 1, 0, 1, 1, 0, 1, 0, 0, 0, 0, 1, 1, 0, 0,\n",
              "       1, 1, 1, 0, 1, 1, 1, 1, 1, 0, 0, 1, 1, 0, 1, 1, 0, 0, 1, 0, 1, 1,\n",
              "       1, 1, 0, 1, 1, 1, 1, 1, 0, 1, 0, 0, 0, 0, 0, 0, 0, 0, 0, 0, 0, 0,\n",
              "       0, 0, 1, 1, 1, 1, 1, 1, 0, 1, 0, 1, 1, 0, 1, 1, 0, 1, 0, 0, 1, 1,\n",
              "       1, 1, 1, 1, 1, 1, 1, 1, 1, 1, 1, 0, 1, 1, 0, 1, 0, 1, 1, 1, 1, 1,\n",
              "       1, 1, 1, 1, 1, 1, 1, 1, 1, 0, 1, 1, 1, 0, 1, 0, 1, 1, 1, 1, 0, 0,\n",
              "       0, 1, 1, 1, 1, 0, 1, 0, 1, 0, 1, 1, 1, 0, 1, 1, 1, 1, 1, 1, 1, 0,\n",
              "       0, 0, 1, 1, 1, 1, 1, 1, 1, 1, 1, 1, 1, 0, 0, 1, 0, 0, 0, 1, 0, 0,\n",
              "       1, 1, 1, 1, 1, 0, 1, 1, 1, 1, 1, 0, 1, 1, 1, 0, 1, 1, 0, 0, 1, 1,\n",
              "       1, 1, 1, 1, 0, 1, 1, 1, 1, 1, 1, 1, 0, 1, 1, 1, 1, 1, 0, 1, 1, 0,\n",
              "       1, 1, 1, 1, 1, 1, 1, 1, 1, 1, 1, 1, 0, 1, 0, 0, 1, 0, 1, 1, 1, 1,\n",
              "       1, 0, 1, 1, 0, 1, 0, 1, 1, 0, 1, 0, 1, 1, 1, 1, 1, 1, 1, 1, 0, 0,\n",
              "       1, 1, 1, 1, 1, 1, 0, 1, 1, 1, 1, 1, 1, 1, 1, 1, 1, 0, 1, 1, 1, 1,\n",
              "       1, 1, 1, 0, 1, 0, 1, 1, 0, 1, 1, 1, 1, 1, 0, 0, 1, 0, 1, 0, 1, 1,\n",
              "       1, 1, 1, 0, 1, 1, 0, 1, 0, 1, 0, 0, 1, 1, 1, 0, 1, 1, 1, 1, 1, 1,\n",
              "       1, 1, 1, 1, 1, 0, 1, 0, 0, 1, 1, 1, 1, 1, 1, 1, 1, 1, 1, 1, 1, 1,\n",
              "       1, 1, 1, 1, 1, 1, 1, 1, 1, 1, 1, 1, 0, 0, 0, 0, 0, 0, 1])"
            ]
          },
          "metadata": {},
          "execution_count": 6
        }
      ]
    },
    {
      "cell_type": "code",
      "source": [
        "data.target_names"
      ],
      "metadata": {
        "colab": {
          "base_uri": "https://localhost:8080/"
        },
        "id": "ownwR3cFdEfv",
        "outputId": "9a1c97c6-aa66-455b-92f3-1a785eba8dbf"
      },
      "execution_count": 7,
      "outputs": [
        {
          "output_type": "execute_result",
          "data": {
            "text/plain": [
              "array(['malignant', 'benign'], dtype='<U9')"
            ]
          },
          "metadata": {},
          "execution_count": 7
        }
      ]
    },
    {
      "cell_type": "code",
      "source": [
        "data.feature_names"
      ],
      "metadata": {
        "colab": {
          "base_uri": "https://localhost:8080/"
        },
        "id": "vxsPpxzythtR",
        "outputId": "0a9255bf-c968-48c1-8828-43009cfeff02"
      },
      "execution_count": 8,
      "outputs": [
        {
          "output_type": "execute_result",
          "data": {
            "text/plain": [
              "array(['mean radius', 'mean texture', 'mean perimeter', 'mean area',\n",
              "       'mean smoothness', 'mean compactness', 'mean concavity',\n",
              "       'mean concave points', 'mean symmetry', 'mean fractal dimension',\n",
              "       'radius error', 'texture error', 'perimeter error', 'area error',\n",
              "       'smoothness error', 'compactness error', 'concavity error',\n",
              "       'concave points error', 'symmetry error',\n",
              "       'fractal dimension error', 'worst radius', 'worst texture',\n",
              "       'worst perimeter', 'worst area', 'worst smoothness',\n",
              "       'worst compactness', 'worst concavity', 'worst concave points',\n",
              "       'worst symmetry', 'worst fractal dimension'], dtype='<U23')"
            ]
          },
          "metadata": {},
          "execution_count": 8
        }
      ]
    },
    {
      "cell_type": "code",
      "source": [
        "# Now we will split the data into training and testing sets\n",
        "from sklearn.model_selection import train_test_split\n",
        "\n",
        "X_train_full,X_test,y_train_full,y_test = train_test_split(data.data,data.target,test_size = 0.2)\n",
        "X_valid,X_train = X_train_full[:100],X_train_full[100:]\n",
        "y_valid,y_train = y_train_full[:100],y_train_full[100:]\n",
        "N, D = X_train.shape"
      ],
      "metadata": {
        "id": "TUhsgznBttHw"
      },
      "execution_count": 11,
      "outputs": []
    },
    {
      "cell_type": "code",
      "source": [
        "# Preprocessing\n",
        "## Scale the data\n",
        "from sklearn.preprocessing import StandardScaler\n",
        "\n",
        "### Scaling the data is very important in deeplearning, we want the inputs to have the same range\n",
        "scaler = StandardScaler()\n",
        "X_train = scaler.fit_transform(X_train) # We only fit on the training set\n",
        "X_valid = scaler.transform(X_valid) # We don't fit on the valid set\n",
        "X_test = scaler.transform(X_test) # We don't fit on the test set"
      ],
      "metadata": {
        "id": "EGoIFZk0uSPz"
      },
      "execution_count": 12,
      "outputs": []
    },
    {
      "cell_type": "code",
      "source": [
        "# Build model\n",
        "model = tf.keras.models.Sequential([\n",
        "                                    tf.keras.layers.Input(shape=(D,)),\n",
        "                                    tf.keras.layers.Dense(1,activation='sigmoid')\n",
        "])\n",
        "                                "
      ],
      "metadata": {
        "id": "-oHN1zbDuSdr"
      },
      "execution_count": 13,
      "outputs": []
    },
    {
      "cell_type": "code",
      "source": [
        "# Compile model\n",
        "model.compile(optimizer = 'adam',\n",
        "              loss = 'binary_crossentropy',\n",
        "              metrics=['accuracy'])"
      ],
      "metadata": {
        "id": "DvSIp1vkuSmx"
      },
      "execution_count": 14,
      "outputs": []
    },
    {
      "cell_type": "code",
      "source": [
        "# Train model\n",
        "r = model.fit(X_train,y_train,validation_data = (X_valid,y_valid), epochs = 100)"
      ],
      "metadata": {
        "colab": {
          "base_uri": "https://localhost:8080/"
        },
        "id": "vFSQKhn1uSqI",
        "outputId": "33ab8497-e1cb-4550-a3ac-0cf9f192cf58"
      },
      "execution_count": 15,
      "outputs": [
        {
          "output_type": "stream",
          "name": "stdout",
          "text": [
            "Epoch 1/100\n",
            "12/12 [==============================] - 1s 32ms/step - loss: 0.5225 - accuracy: 0.7493 - val_loss: 0.4582 - val_accuracy: 0.8100\n",
            "Epoch 2/100\n",
            "12/12 [==============================] - 0s 8ms/step - loss: 0.4780 - accuracy: 0.7775 - val_loss: 0.4208 - val_accuracy: 0.8300\n",
            "Epoch 3/100\n",
            "12/12 [==============================] - 0s 7ms/step - loss: 0.4401 - accuracy: 0.8028 - val_loss: 0.3893 - val_accuracy: 0.8500\n",
            "Epoch 4/100\n",
            "12/12 [==============================] - 0s 8ms/step - loss: 0.4080 - accuracy: 0.8197 - val_loss: 0.3618 - val_accuracy: 0.8700\n",
            "Epoch 5/100\n",
            "12/12 [==============================] - 0s 7ms/step - loss: 0.3800 - accuracy: 0.8563 - val_loss: 0.3390 - val_accuracy: 0.8800\n",
            "Epoch 6/100\n",
            "12/12 [==============================] - 0s 8ms/step - loss: 0.3547 - accuracy: 0.8732 - val_loss: 0.3177 - val_accuracy: 0.9000\n",
            "Epoch 7/100\n",
            "12/12 [==============================] - 0s 7ms/step - loss: 0.3330 - accuracy: 0.8873 - val_loss: 0.2992 - val_accuracy: 0.9000\n",
            "Epoch 8/100\n",
            "12/12 [==============================] - 0s 7ms/step - loss: 0.3138 - accuracy: 0.8958 - val_loss: 0.2836 - val_accuracy: 0.9000\n",
            "Epoch 9/100\n",
            "12/12 [==============================] - 0s 7ms/step - loss: 0.2971 - accuracy: 0.8958 - val_loss: 0.2688 - val_accuracy: 0.9100\n",
            "Epoch 10/100\n",
            "12/12 [==============================] - 0s 7ms/step - loss: 0.2818 - accuracy: 0.9099 - val_loss: 0.2559 - val_accuracy: 0.9200\n",
            "Epoch 11/100\n",
            "12/12 [==============================] - 0s 8ms/step - loss: 0.2684 - accuracy: 0.9099 - val_loss: 0.2442 - val_accuracy: 0.9200\n",
            "Epoch 12/100\n",
            "12/12 [==============================] - 0s 6ms/step - loss: 0.2562 - accuracy: 0.9155 - val_loss: 0.2340 - val_accuracy: 0.9300\n",
            "Epoch 13/100\n",
            "12/12 [==============================] - 0s 7ms/step - loss: 0.2456 - accuracy: 0.9239 - val_loss: 0.2242 - val_accuracy: 0.9300\n",
            "Epoch 14/100\n",
            "12/12 [==============================] - 0s 7ms/step - loss: 0.2355 - accuracy: 0.9324 - val_loss: 0.2157 - val_accuracy: 0.9300\n",
            "Epoch 15/100\n",
            "12/12 [==============================] - 0s 7ms/step - loss: 0.2269 - accuracy: 0.9352 - val_loss: 0.2076 - val_accuracy: 0.9300\n",
            "Epoch 16/100\n",
            "12/12 [==============================] - 0s 7ms/step - loss: 0.2188 - accuracy: 0.9380 - val_loss: 0.2005 - val_accuracy: 0.9300\n",
            "Epoch 17/100\n",
            "12/12 [==============================] - 0s 6ms/step - loss: 0.2112 - accuracy: 0.9380 - val_loss: 0.1939 - val_accuracy: 0.9400\n",
            "Epoch 18/100\n",
            "12/12 [==============================] - 0s 7ms/step - loss: 0.2043 - accuracy: 0.9408 - val_loss: 0.1876 - val_accuracy: 0.9400\n",
            "Epoch 19/100\n",
            "12/12 [==============================] - 0s 7ms/step - loss: 0.1980 - accuracy: 0.9408 - val_loss: 0.1819 - val_accuracy: 0.9400\n",
            "Epoch 20/100\n",
            "12/12 [==============================] - 0s 5ms/step - loss: 0.1920 - accuracy: 0.9465 - val_loss: 0.1758 - val_accuracy: 0.9400\n",
            "Epoch 21/100\n",
            "12/12 [==============================] - 0s 6ms/step - loss: 0.1864 - accuracy: 0.9465 - val_loss: 0.1709 - val_accuracy: 0.9400\n",
            "Epoch 22/100\n",
            "12/12 [==============================] - 0s 6ms/step - loss: 0.1816 - accuracy: 0.9465 - val_loss: 0.1663 - val_accuracy: 0.9400\n",
            "Epoch 23/100\n",
            "12/12 [==============================] - 0s 7ms/step - loss: 0.1769 - accuracy: 0.9465 - val_loss: 0.1620 - val_accuracy: 0.9400\n",
            "Epoch 24/100\n",
            "12/12 [==============================] - 0s 7ms/step - loss: 0.1728 - accuracy: 0.9493 - val_loss: 0.1580 - val_accuracy: 0.9400\n",
            "Epoch 25/100\n",
            "12/12 [==============================] - 0s 6ms/step - loss: 0.1687 - accuracy: 0.9521 - val_loss: 0.1544 - val_accuracy: 0.9400\n",
            "Epoch 26/100\n",
            "12/12 [==============================] - 0s 7ms/step - loss: 0.1650 - accuracy: 0.9577 - val_loss: 0.1509 - val_accuracy: 0.9400\n",
            "Epoch 27/100\n",
            "12/12 [==============================] - 0s 7ms/step - loss: 0.1617 - accuracy: 0.9577 - val_loss: 0.1481 - val_accuracy: 0.9400\n",
            "Epoch 28/100\n",
            "12/12 [==============================] - 0s 6ms/step - loss: 0.1586 - accuracy: 0.9577 - val_loss: 0.1451 - val_accuracy: 0.9400\n",
            "Epoch 29/100\n",
            "12/12 [==============================] - 0s 6ms/step - loss: 0.1556 - accuracy: 0.9577 - val_loss: 0.1425 - val_accuracy: 0.9400\n",
            "Epoch 30/100\n",
            "12/12 [==============================] - 0s 6ms/step - loss: 0.1526 - accuracy: 0.9606 - val_loss: 0.1392 - val_accuracy: 0.9500\n",
            "Epoch 31/100\n",
            "12/12 [==============================] - 0s 5ms/step - loss: 0.1496 - accuracy: 0.9634 - val_loss: 0.1366 - val_accuracy: 0.9500\n",
            "Epoch 32/100\n",
            "12/12 [==============================] - 0s 7ms/step - loss: 0.1470 - accuracy: 0.9634 - val_loss: 0.1341 - val_accuracy: 0.9500\n",
            "Epoch 33/100\n",
            "12/12 [==============================] - 0s 6ms/step - loss: 0.1446 - accuracy: 0.9634 - val_loss: 0.1316 - val_accuracy: 0.9500\n",
            "Epoch 34/100\n",
            "12/12 [==============================] - 0s 5ms/step - loss: 0.1422 - accuracy: 0.9634 - val_loss: 0.1293 - val_accuracy: 0.9500\n",
            "Epoch 35/100\n",
            "12/12 [==============================] - 0s 6ms/step - loss: 0.1398 - accuracy: 0.9662 - val_loss: 0.1272 - val_accuracy: 0.9600\n",
            "Epoch 36/100\n",
            "12/12 [==============================] - 0s 6ms/step - loss: 0.1377 - accuracy: 0.9662 - val_loss: 0.1251 - val_accuracy: 0.9600\n",
            "Epoch 37/100\n",
            "12/12 [==============================] - 0s 6ms/step - loss: 0.1355 - accuracy: 0.9662 - val_loss: 0.1232 - val_accuracy: 0.9600\n",
            "Epoch 38/100\n",
            "12/12 [==============================] - 0s 5ms/step - loss: 0.1336 - accuracy: 0.9662 - val_loss: 0.1214 - val_accuracy: 0.9600\n",
            "Epoch 39/100\n",
            "12/12 [==============================] - 0s 6ms/step - loss: 0.1317 - accuracy: 0.9662 - val_loss: 0.1196 - val_accuracy: 0.9600\n",
            "Epoch 40/100\n",
            "12/12 [==============================] - 0s 6ms/step - loss: 0.1299 - accuracy: 0.9690 - val_loss: 0.1180 - val_accuracy: 0.9600\n",
            "Epoch 41/100\n",
            "12/12 [==============================] - 0s 6ms/step - loss: 0.1283 - accuracy: 0.9746 - val_loss: 0.1166 - val_accuracy: 0.9600\n",
            "Epoch 42/100\n",
            "12/12 [==============================] - 0s 6ms/step - loss: 0.1264 - accuracy: 0.9746 - val_loss: 0.1147 - val_accuracy: 0.9600\n",
            "Epoch 43/100\n",
            "12/12 [==============================] - 0s 5ms/step - loss: 0.1249 - accuracy: 0.9746 - val_loss: 0.1131 - val_accuracy: 0.9600\n",
            "Epoch 44/100\n",
            "12/12 [==============================] - 0s 6ms/step - loss: 0.1232 - accuracy: 0.9746 - val_loss: 0.1116 - val_accuracy: 0.9600\n",
            "Epoch 45/100\n",
            "12/12 [==============================] - 0s 6ms/step - loss: 0.1218 - accuracy: 0.9746 - val_loss: 0.1099 - val_accuracy: 0.9600\n",
            "Epoch 46/100\n",
            "12/12 [==============================] - 0s 7ms/step - loss: 0.1204 - accuracy: 0.9746 - val_loss: 0.1086 - val_accuracy: 0.9600\n",
            "Epoch 47/100\n",
            "12/12 [==============================] - 0s 5ms/step - loss: 0.1190 - accuracy: 0.9746 - val_loss: 0.1072 - val_accuracy: 0.9600\n",
            "Epoch 48/100\n",
            "12/12 [==============================] - 0s 6ms/step - loss: 0.1177 - accuracy: 0.9718 - val_loss: 0.1060 - val_accuracy: 0.9600\n",
            "Epoch 49/100\n",
            "12/12 [==============================] - 0s 6ms/step - loss: 0.1165 - accuracy: 0.9718 - val_loss: 0.1048 - val_accuracy: 0.9600\n",
            "Epoch 50/100\n",
            "12/12 [==============================] - 0s 6ms/step - loss: 0.1153 - accuracy: 0.9718 - val_loss: 0.1037 - val_accuracy: 0.9600\n",
            "Epoch 51/100\n",
            "12/12 [==============================] - 0s 7ms/step - loss: 0.1142 - accuracy: 0.9718 - val_loss: 0.1025 - val_accuracy: 0.9600\n",
            "Epoch 52/100\n",
            "12/12 [==============================] - 0s 6ms/step - loss: 0.1129 - accuracy: 0.9718 - val_loss: 0.1015 - val_accuracy: 0.9600\n",
            "Epoch 53/100\n",
            "12/12 [==============================] - 0s 8ms/step - loss: 0.1119 - accuracy: 0.9718 - val_loss: 0.1005 - val_accuracy: 0.9600\n",
            "Epoch 54/100\n",
            "12/12 [==============================] - 0s 7ms/step - loss: 0.1108 - accuracy: 0.9718 - val_loss: 0.0995 - val_accuracy: 0.9600\n",
            "Epoch 55/100\n",
            "12/12 [==============================] - 0s 6ms/step - loss: 0.1098 - accuracy: 0.9718 - val_loss: 0.0986 - val_accuracy: 0.9600\n",
            "Epoch 56/100\n",
            "12/12 [==============================] - 0s 5ms/step - loss: 0.1087 - accuracy: 0.9718 - val_loss: 0.0977 - val_accuracy: 0.9600\n",
            "Epoch 57/100\n",
            "12/12 [==============================] - 0s 8ms/step - loss: 0.1078 - accuracy: 0.9718 - val_loss: 0.0968 - val_accuracy: 0.9600\n",
            "Epoch 58/100\n",
            "12/12 [==============================] - 0s 8ms/step - loss: 0.1067 - accuracy: 0.9718 - val_loss: 0.0961 - val_accuracy: 0.9600\n",
            "Epoch 59/100\n",
            "12/12 [==============================] - 0s 7ms/step - loss: 0.1059 - accuracy: 0.9746 - val_loss: 0.0954 - val_accuracy: 0.9600\n",
            "Epoch 60/100\n",
            "12/12 [==============================] - 0s 5ms/step - loss: 0.1050 - accuracy: 0.9775 - val_loss: 0.0946 - val_accuracy: 0.9600\n",
            "Epoch 61/100\n",
            "12/12 [==============================] - 0s 7ms/step - loss: 0.1042 - accuracy: 0.9775 - val_loss: 0.0938 - val_accuracy: 0.9600\n",
            "Epoch 62/100\n",
            "12/12 [==============================] - 0s 7ms/step - loss: 0.1033 - accuracy: 0.9803 - val_loss: 0.0929 - val_accuracy: 0.9600\n",
            "Epoch 63/100\n",
            "12/12 [==============================] - 0s 7ms/step - loss: 0.1025 - accuracy: 0.9831 - val_loss: 0.0921 - val_accuracy: 0.9600\n",
            "Epoch 64/100\n",
            "12/12 [==============================] - 0s 7ms/step - loss: 0.1017 - accuracy: 0.9831 - val_loss: 0.0914 - val_accuracy: 0.9600\n",
            "Epoch 65/100\n",
            "12/12 [==============================] - 0s 7ms/step - loss: 0.1010 - accuracy: 0.9831 - val_loss: 0.0908 - val_accuracy: 0.9600\n",
            "Epoch 66/100\n",
            "12/12 [==============================] - 0s 7ms/step - loss: 0.1002 - accuracy: 0.9831 - val_loss: 0.0902 - val_accuracy: 0.9600\n",
            "Epoch 67/100\n",
            "12/12 [==============================] - 0s 7ms/step - loss: 0.0996 - accuracy: 0.9831 - val_loss: 0.0896 - val_accuracy: 0.9600\n",
            "Epoch 68/100\n",
            "12/12 [==============================] - 0s 7ms/step - loss: 0.0988 - accuracy: 0.9831 - val_loss: 0.0889 - val_accuracy: 0.9600\n",
            "Epoch 69/100\n",
            "12/12 [==============================] - 0s 7ms/step - loss: 0.0981 - accuracy: 0.9831 - val_loss: 0.0883 - val_accuracy: 0.9600\n",
            "Epoch 70/100\n",
            "12/12 [==============================] - 0s 11ms/step - loss: 0.0975 - accuracy: 0.9831 - val_loss: 0.0877 - val_accuracy: 0.9600\n",
            "Epoch 71/100\n",
            "12/12 [==============================] - 0s 13ms/step - loss: 0.0969 - accuracy: 0.9831 - val_loss: 0.0870 - val_accuracy: 0.9600\n",
            "Epoch 72/100\n",
            "12/12 [==============================] - 0s 11ms/step - loss: 0.0962 - accuracy: 0.9831 - val_loss: 0.0864 - val_accuracy: 0.9600\n",
            "Epoch 73/100\n",
            "12/12 [==============================] - 0s 10ms/step - loss: 0.0955 - accuracy: 0.9831 - val_loss: 0.0858 - val_accuracy: 0.9600\n",
            "Epoch 74/100\n",
            "12/12 [==============================] - 0s 10ms/step - loss: 0.0949 - accuracy: 0.9831 - val_loss: 0.0851 - val_accuracy: 0.9600\n",
            "Epoch 75/100\n",
            "12/12 [==============================] - 0s 4ms/step - loss: 0.0943 - accuracy: 0.9831 - val_loss: 0.0845 - val_accuracy: 0.9600\n",
            "Epoch 76/100\n",
            "12/12 [==============================] - 0s 4ms/step - loss: 0.0936 - accuracy: 0.9831 - val_loss: 0.0839 - val_accuracy: 0.9600\n",
            "Epoch 77/100\n",
            "12/12 [==============================] - 0s 4ms/step - loss: 0.0930 - accuracy: 0.9831 - val_loss: 0.0834 - val_accuracy: 0.9600\n",
            "Epoch 78/100\n",
            "12/12 [==============================] - 0s 4ms/step - loss: 0.0924 - accuracy: 0.9831 - val_loss: 0.0828 - val_accuracy: 0.9600\n",
            "Epoch 79/100\n",
            "12/12 [==============================] - 0s 5ms/step - loss: 0.0919 - accuracy: 0.9831 - val_loss: 0.0823 - val_accuracy: 0.9600\n",
            "Epoch 80/100\n",
            "12/12 [==============================] - 0s 6ms/step - loss: 0.0913 - accuracy: 0.9831 - val_loss: 0.0818 - val_accuracy: 0.9600\n",
            "Epoch 81/100\n",
            "12/12 [==============================] - 0s 3ms/step - loss: 0.0908 - accuracy: 0.9831 - val_loss: 0.0814 - val_accuracy: 0.9600\n",
            "Epoch 82/100\n",
            "12/12 [==============================] - 0s 5ms/step - loss: 0.0903 - accuracy: 0.9831 - val_loss: 0.0809 - val_accuracy: 0.9600\n",
            "Epoch 83/100\n",
            "12/12 [==============================] - 0s 5ms/step - loss: 0.0898 - accuracy: 0.9831 - val_loss: 0.0804 - val_accuracy: 0.9600\n",
            "Epoch 84/100\n",
            "12/12 [==============================] - 0s 3ms/step - loss: 0.0893 - accuracy: 0.9831 - val_loss: 0.0800 - val_accuracy: 0.9600\n",
            "Epoch 85/100\n",
            "12/12 [==============================] - 0s 4ms/step - loss: 0.0887 - accuracy: 0.9831 - val_loss: 0.0796 - val_accuracy: 0.9600\n",
            "Epoch 86/100\n",
            "12/12 [==============================] - 0s 5ms/step - loss: 0.0882 - accuracy: 0.9831 - val_loss: 0.0791 - val_accuracy: 0.9600\n",
            "Epoch 87/100\n",
            "12/12 [==============================] - 0s 4ms/step - loss: 0.0877 - accuracy: 0.9831 - val_loss: 0.0788 - val_accuracy: 0.9600\n",
            "Epoch 88/100\n",
            "12/12 [==============================] - 0s 3ms/step - loss: 0.0873 - accuracy: 0.9831 - val_loss: 0.0784 - val_accuracy: 0.9600\n",
            "Epoch 89/100\n",
            "12/12 [==============================] - 0s 5ms/step - loss: 0.0868 - accuracy: 0.9831 - val_loss: 0.0779 - val_accuracy: 0.9600\n",
            "Epoch 90/100\n",
            "12/12 [==============================] - 0s 5ms/step - loss: 0.0864 - accuracy: 0.9831 - val_loss: 0.0775 - val_accuracy: 0.9600\n",
            "Epoch 91/100\n",
            "12/12 [==============================] - 0s 4ms/step - loss: 0.0859 - accuracy: 0.9831 - val_loss: 0.0769 - val_accuracy: 0.9600\n",
            "Epoch 92/100\n",
            "12/12 [==============================] - 0s 5ms/step - loss: 0.0854 - accuracy: 0.9859 - val_loss: 0.0764 - val_accuracy: 0.9600\n",
            "Epoch 93/100\n",
            "12/12 [==============================] - 0s 5ms/step - loss: 0.0849 - accuracy: 0.9859 - val_loss: 0.0760 - val_accuracy: 0.9600\n",
            "Epoch 94/100\n",
            "12/12 [==============================] - 0s 4ms/step - loss: 0.0845 - accuracy: 0.9859 - val_loss: 0.0756 - val_accuracy: 0.9600\n",
            "Epoch 95/100\n",
            "12/12 [==============================] - 0s 4ms/step - loss: 0.0840 - accuracy: 0.9859 - val_loss: 0.0752 - val_accuracy: 0.9600\n",
            "Epoch 96/100\n",
            "12/12 [==============================] - 0s 3ms/step - loss: 0.0836 - accuracy: 0.9859 - val_loss: 0.0748 - val_accuracy: 0.9600\n",
            "Epoch 97/100\n",
            "12/12 [==============================] - 0s 5ms/step - loss: 0.0833 - accuracy: 0.9859 - val_loss: 0.0744 - val_accuracy: 0.9600\n",
            "Epoch 98/100\n",
            "12/12 [==============================] - 0s 4ms/step - loss: 0.0829 - accuracy: 0.9859 - val_loss: 0.0741 - val_accuracy: 0.9600\n",
            "Epoch 99/100\n",
            "12/12 [==============================] - 0s 3ms/step - loss: 0.0825 - accuracy: 0.9859 - val_loss: 0.0737 - val_accuracy: 0.9600\n",
            "Epoch 100/100\n",
            "12/12 [==============================] - 0s 4ms/step - loss: 0.0821 - accuracy: 0.9859 - val_loss: 0.0735 - val_accuracy: 0.9600\n"
          ]
        }
      ]
    },
    {
      "cell_type": "code",
      "source": [
        "# Evaluate the model - evaluate() returns loss and accuracy\n",
        "print('Train score:',model.evaluate(X_train,y_train))\n",
        "print('Test score:', model.evaluate(X_test,y_test))"
      ],
      "metadata": {
        "colab": {
          "base_uri": "https://localhost:8080/"
        },
        "id": "wo3dBhAuuStW",
        "outputId": "d8dba119-1ccd-4d56-d233-28dfde25f566"
      },
      "execution_count": 16,
      "outputs": [
        {
          "output_type": "stream",
          "name": "stdout",
          "text": [
            "12/12 [==============================] - 0s 2ms/step - loss: 0.0819 - accuracy: 0.9887\n",
            "Train score: [0.08187694847583771, 0.9887323975563049]\n",
            "4/4 [==============================] - 0s 3ms/step - loss: 0.1138 - accuracy: 0.9561\n",
            "Test score: [0.11379444599151611, 0.9561403393745422]\n"
          ]
        }
      ]
    },
    {
      "cell_type": "code",
      "source": [
        "# Plot what's returned by model.fit\n",
        "import matplotlib.pyplot as plt\n",
        "plt.plot(r.history['loss'],label = 'loss')\n",
        "plt.plot(r.history['val_loss'],label = 'val_loss') # validation set\n",
        "plt.legend()\n",
        "plt.show()\n"
      ],
      "metadata": {
        "colab": {
          "base_uri": "https://localhost:8080/",
          "height": 265
        },
        "id": "CUM2tJZLuSwv",
        "outputId": "6054d0c1-a0a1-4b22-ba7a-db7b510593d1"
      },
      "execution_count": 17,
      "outputs": [
        {
          "output_type": "display_data",
          "data": {
            "text/plain": [
              "<Figure size 432x288 with 1 Axes>"
            ],
            "image/png": "[encoded data removed]"
          },
          "metadata": {
            "needs_background": "light"
          }
        }
      ]
    },
    {
      "cell_type": "code",
      "source": [
        "# Plot accuracy\n",
        "plt.plot(r.history['accuracy'],label = 'acc')\n",
        "plt.plot(r.history['val_accuracy'],label = 'val_acc')\n",
        "plt.legend()\n",
        "plt.show()"
      ],
      "metadata": {
        "colab": {
          "base_uri": "https://localhost:8080/",
          "height": 265
        },
        "id": "NjwS0AGZz2Oc",
        "outputId": "c2eff596-9f1e-4d22-874b-331aa3b10239"
      },
      "execution_count": 18,
      "outputs": [
        {
          "output_type": "display_data",
          "data": {
            "text/plain": [
              "<Figure size 432x288 with 1 Axes>"
            ],
            "image/png": "[encoded data removed]"
          },
          "metadata": {
            "needs_background": "light"
          }
        }
      ]
    },
    {
      "cell_type": "code",
      "source": [
        "# Make predictions\n",
        "X_new = X_test[:5]\n",
        "y_pred = model.predict(X_new)"
      ],
      "metadata": {
        "id": "6xuNgX2NeH44"
      },
      "execution_count": 19,
      "outputs": []
    },
    {
      "cell_type": "code",
      "source": [
        "for i in range(len(y_pred)):\n",
        "  if y_pred[i] >=0.5:\n",
        "    print(f'We predict person number {i+1} has a benign tumor.')\n",
        "  else:\n",
        "    print(f'We predict person number {i+1} has a malignant tumor.')"
      ],
      "metadata": {
        "colab": {
          "base_uri": "https://localhost:8080/"
        },
        "id": "iN_Rk4k0ekHZ",
        "outputId": "ea152241-cd67-442f-aeb6-f58c6177551a"
      },
      "execution_count": 20,
      "outputs": [
        {
          "output_type": "stream",
          "name": "stdout",
          "text": [
            "We predict person number 1 has a malignant tumor.\n",
            "We predict person number 2 has a benign tumor.\n",
            "We predict person number 3 has a malignant tumor.\n",
            "We predict person number 4 has a benign tumor.\n",
            "We predict person number 5 has a malignant tumor.\n"
          ]
        }
      ]
    },
    {
      "cell_type": "code",
      "source": [
        "for i in range(len(y_pred)):\n",
        "  if y_test[i]>=0.5:\n",
        "    print(f'In reality person number {i+1} has a benign tumor.')\n",
        "  else:\n",
        "    print(f'In reality person number {i+1} has a malignant tumor.')\n"
      ],
      "metadata": {
        "colab": {
          "base_uri": "https://localhost:8080/"
        },
        "id": "Sq3_lzjagaih",
        "outputId": "ebb280a9-565b-4095-ede7-42e5df44a788"
      },
      "execution_count": 21,
      "outputs": [
        {
          "output_type": "stream",
          "name": "stdout",
          "text": [
            "In reality person number 1 has a malignant tumor.\n",
            "In reality person number 2 has a benign tumor.\n",
            "In reality person number 3 has a malignant tumor.\n",
            "In reality person number 4 has a benign tumor.\n",
            "In reality person number 5 has a benign tumor.\n"
          ]
        }
      ]
    }
  ]
}