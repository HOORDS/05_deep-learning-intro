{
  "nbformat": 4,
  "nbformat_minor": 0,
  "metadata": {
    "colab": {
      "name": "Multiclass classification.ipynb",
      "provenance": [],
      "collapsed_sections": []
    },
    "kernelspec": {
      "name": "python3",
      "display_name": "Python 3"
    },
    "language_info": {
      "name": "python"
    }
  },
  "cells": [
    {
      "cell_type": "code",
      "execution_count": 43,
      "metadata": {
        "id": "aeBko0OMgMRC"
      },
      "outputs": [],
      "source": [
        "# Import tensorflow\n",
        "import tensorflow as tf\n",
        "import matplotlib.pyplot as plt\n",
        "import numpy as np"
      ]
    },
    {
      "cell_type": "code",
      "source": [
        "# We will use the mnist data set to implement multiclass classification\n",
        "mnist = tf.keras.datasets.mnist\n",
        "(X_train_full,y_train_full),(X_test,y_test) = mnist.load_data()\n",
        "\n",
        "X_valid,X_train = X_train_full[:5000]/255 , X_train_full[5000:]/255 # 5000 for validation, 55000 for training\n",
        "y_valid,y_train = y_train_full[:5000], y_train_full[5000:]\n",
        "\n",
        "X_test = X_test/255\n",
        "print(f\"X train shape:{X_train.shape}\")"
      ],
      "metadata": {
        "colab": {
          "base_uri": "https://localhost:8080/"
        },
        "id": "lenJHJXnhZGp",
        "outputId": "b5091fc7-e043-4f80-d5c2-e02b4ec89430"
      },
      "execution_count": 26,
      "outputs": [
        {
          "output_type": "stream",
          "name": "stdout",
          "text": [
            "X train shape:(55000, 28, 28)\n"
          ]
        }
      ]
    },
    {
      "cell_type": "code",
      "source": [
        "# Look at some images\n",
        "plt.imshow(X_train[1],cmap = 'gray')\n",
        "plt.show()"
      ],
      "metadata": {
        "colab": {
          "base_uri": "https://localhost:8080/",
          "height": 265
        },
        "id": "n2ZTDqsNnYpa",
        "outputId": "3ac5d2a6-2ecb-474a-ad4d-40fc3fca02ce"
      },
      "execution_count": 27,
      "outputs": [
        {
          "output_type": "display_data",
          "data": {
            "text/plain": [
              "<Figure size 432x288 with 1 Axes>"
            ],
            "image/png": "[encoded data removed]"
          },
          "metadata": {
            "needs_background": "light"
          }
        }
      ]
    },
    {
      "cell_type": "code",
      "source": [
        "# Build the model\n",
        "\n",
        "model = tf.keras.models.Sequential([\n",
        "                                    tf.keras.layers.Flatten(input_shape=(28,28)), # Convert 2D features (pixels, 28 X 28) to 1D with 784 values\n",
        "                                    tf.keras.layers.Dense(128,activation = 'relu'), # Dense layers do a linear transformation; activation here is ReLu\n",
        "                                    ##### RELU: Rectified Linear Unit, non linear transformation of the activation;\n",
        "                                    ##### returns 0 if the activation is negative (shuts down neurons) and the actual number if the activation is positive\n",
        "                                    ##### interesting because it does not activate all neurons\n",
        "                                    tf.keras.layers.Dropout(0.2), # Regularization layer; we don't want the network to depend on one single input strongly\n",
        "                                    ### Dropout randomly drops input nodes to 0 and won't transmit their output\n",
        "                                    ### This helps the network to learn evenly\n",
        "                                    tf.keras.layers.Dense(10, activation = 'softmax') # Final layer; 10 number of classes\n",
        "                                    ### Softmax: THE activation function used for multiclass classification\n",
        "\n",
        "\n",
        "])"
      ],
      "metadata": {
        "id": "zMQcDvEQh38c"
      },
      "execution_count": 28,
      "outputs": []
    },
    {
      "cell_type": "code",
      "source": [
        "# Compile the model\n",
        "\n",
        "model.compile(optimizer = 'adam', # we can use others like sgd\n",
        "              loss = 'sparse_categorical_crossentropy', # Used for multiclass classification vs binary crossentropy for binary classification\n",
        "              metrics = ['accuracy'])"
      ],
      "metadata": {
        "id": "EoB0m4-vkzt5"
      },
      "execution_count": 29,
      "outputs": []
    },
    {
      "cell_type": "code",
      "source": [
        "# Train the model\n",
        "r = model.fit(X_train,y_train,validation_data=(X_valid,y_valid), epochs = 10)"
      ],
      "metadata": {
        "colab": {
          "base_uri": "https://localhost:8080/"
        },
        "id": "0SNzVWp0lQzz",
        "outputId": "f3167e33-cff5-4d17-997d-7a926d04c9a3"
      },
      "execution_count": 30,
      "outputs": [
        {
          "output_type": "stream",
          "name": "stdout",
          "text": [
            "Epoch 1/10\n",
            "1719/1719 [==============================] - 6s 3ms/step - loss: 0.3108 - accuracy: 0.9101 - val_loss: 0.1465 - val_accuracy: 0.9582\n",
            "Epoch 2/10\n",
            "1719/1719 [==============================] - 6s 3ms/step - loss: 0.1475 - accuracy: 0.9565 - val_loss: 0.1023 - val_accuracy: 0.9676\n",
            "Epoch 3/10\n",
            "1719/1719 [==============================] - 5s 3ms/step - loss: 0.1108 - accuracy: 0.9661 - val_loss: 0.0826 - val_accuracy: 0.9764\n",
            "Epoch 4/10\n",
            "1719/1719 [==============================] - 6s 3ms/step - loss: 0.0887 - accuracy: 0.9726 - val_loss: 0.0721 - val_accuracy: 0.9804\n",
            "Epoch 5/10\n",
            "1719/1719 [==============================] - 6s 3ms/step - loss: 0.0762 - accuracy: 0.9757 - val_loss: 0.0782 - val_accuracy: 0.9782\n",
            "Epoch 6/10\n",
            "1719/1719 [==============================] - 5s 3ms/step - loss: 0.0666 - accuracy: 0.9786 - val_loss: 0.0697 - val_accuracy: 0.9812\n",
            "Epoch 7/10\n",
            "1719/1719 [==============================] - 6s 3ms/step - loss: 0.0583 - accuracy: 0.9809 - val_loss: 0.0674 - val_accuracy: 0.9802\n",
            "Epoch 8/10\n",
            "1719/1719 [==============================] - 6s 4ms/step - loss: 0.0520 - accuracy: 0.9834 - val_loss: 0.0658 - val_accuracy: 0.9828\n",
            "Epoch 9/10\n",
            "1719/1719 [==============================] - 5s 3ms/step - loss: 0.0516 - accuracy: 0.9831 - val_loss: 0.0720 - val_accuracy: 0.9824\n",
            "Epoch 10/10\n",
            "1719/1719 [==============================] - 5s 3ms/step - loss: 0.0438 - accuracy: 0.9854 - val_loss: 0.0685 - val_accuracy: 0.9818\n"
          ]
        }
      ]
    },
    {
      "cell_type": "code",
      "source": [
        ""
      ],
      "metadata": {
        "id": "-fQtFHDhmm1U"
      },
      "execution_count": null,
      "outputs": []
    },
    {
      "cell_type": "code",
      "source": [
        "# Plot loss per iteration\n",
        "import matplotlib.pyplot as plt\n",
        "plt.plot(r.history['loss'],label = 'loss')\n",
        "plt.plot(r.history['val_loss'],label = 'val_loss')\n",
        "plt.legend()\n",
        "plt.show()"
      ],
      "metadata": {
        "colab": {
          "base_uri": "https://localhost:8080/",
          "height": 265
        },
        "id": "CUip4-xImnIq",
        "outputId": "59e4c3eb-6e10-465e-ca1b-b3817155cb6c"
      },
      "execution_count": 31,
      "outputs": [
        {
          "output_type": "display_data",
          "data": {
            "text/plain": [
              "<Figure size 432x288 with 1 Axes>"
            ],
            "image/png": "[encoded data removed]"
          },
          "metadata": {
            "needs_background": "light"
          }
        }
      ]
    },
    {
      "cell_type": "code",
      "source": [
        "# Plot accuracy per iteration\n",
        "\n",
        "plt.plot(r.history['accuracy'],label = 'accuracy')\n",
        "plt.plot(r.history['val_accuracy'],label = 'val_accuracy')\n",
        "plt.legend()\n",
        "plt.show()"
      ],
      "metadata": {
        "colab": {
          "base_uri": "https://localhost:8080/",
          "height": 265
        },
        "id": "HSCusHzSnB5V",
        "outputId": "ae47449c-e6c7-4ec8-f3c9-b5ad533af3d4"
      },
      "execution_count": 32,
      "outputs": [
        {
          "output_type": "display_data",
          "data": {
            "text/plain": [
              "<Figure size 432x288 with 1 Axes>"
            ],
            "image/png": "[encoded data removed]"
          },
          "metadata": {
            "needs_background": "light"
          }
        }
      ]
    },
    {
      "cell_type": "code",
      "source": [
        "# Evaluate the model\n",
        "print(model.evaluate(X_test,y_test)) # Print accuracy and loss for the validation set of last epoch"
      ],
      "metadata": {
        "colab": {
          "base_uri": "https://localhost:8080/"
        },
        "id": "yu9w6OGPnB7b",
        "outputId": "e2108b95-2fbe-4714-b6de-f3b55e014a0c"
      },
      "execution_count": 33,
      "outputs": [
        {
          "output_type": "stream",
          "name": "stdout",
          "text": [
            "313/313 [==============================] - 1s 2ms/step - loss: 0.0712 - accuracy: 0.9798\n",
            "[0.07120515406131744, 0.9797999858856201]\n"
          ]
        }
      ]
    },
    {
      "cell_type": "code",
      "source": [
        "# Make some predictions\n",
        "X_new = X_test [:5]\n",
        "y_proba = model.predict(X_new)\n",
        "y_proba.round(2)"
      ],
      "metadata": {
        "colab": {
          "base_uri": "https://localhost:8080/"
        },
        "id": "9AyRGbrxnB9h",
        "outputId": "a84db691-9076-4c7f-e515-325afffc6338"
      },
      "execution_count": 34,
      "outputs": [
        {
          "output_type": "execute_result",
          "data": {
            "text/plain": [
              "array([[0.  , 0.  , 0.  , 0.  , 0.  , 0.  , 0.  , 1.  , 0.  , 0.  ],\n",
              "       [0.  , 0.  , 1.  , 0.  , 0.  , 0.  , 0.  , 0.  , 0.  , 0.  ],\n",
              "       [0.  , 1.  , 0.  , 0.  , 0.  , 0.  , 0.  , 0.  , 0.  , 0.  ],\n",
              "       [1.  , 0.  , 0.  , 0.  , 0.  , 0.  , 0.  , 0.  , 0.  , 0.  ],\n",
              "       [0.  , 0.  , 0.  , 0.  , 0.99, 0.  , 0.  , 0.  , 0.  , 0.01]],\n",
              "      dtype=float32)"
            ]
          },
          "metadata": {},
          "execution_count": 34
        }
      ]
    },
    {
      "cell_type": "code",
      "source": [
        "i = 4\n",
        "plt.imshow(X_test[i],cmap = 'gray')\n",
        "plt.show()\n"
      ],
      "metadata": {
        "colab": {
          "base_uri": "https://localhost:8080/",
          "height": 265
        },
        "id": "rCIsXA9AojJp",
        "outputId": "ede075aa-b610-49ab-ff43-94324c7cb9ea"
      },
      "execution_count": 46,
      "outputs": [
        {
          "output_type": "display_data",
          "data": {
            "text/plain": [
              "<Figure size 432x288 with 1 Axes>"
            ],
            "image/png": "[encoded data removed]"
          },
          "metadata": {
            "needs_background": "light"
          }
        }
      ]
    }
  ]
}